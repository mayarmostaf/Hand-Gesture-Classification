{
  "cells": [
    {
      "cell_type": "markdown",
      "metadata": {
        "colab_type": "text",
        "id": "view-in-github"
      },
      "source": [
        "<a href=\"https://colab.research.google.com/github/mayarmostaf/Hand-Gesture-Classification/blob/main/main.ipynb\" target=\"_parent\"><img src=\"https://colab.research.google.com/assets/colab-badge.svg\" alt=\"Open In Colab\"/></a>"
      ]
    },
    {
      "cell_type": "code",
      "execution_count": 2,
      "metadata": {
        "id": "keGx66DVP9o1"
      },
      "outputs": [],
      "source": [
        "import pandas as pd\n",
        "import numpy as np\n",
        "import matplotlib.pyplot as plt\n",
        "import seaborn as sns"
      ]
    },
    {
      "cell_type": "markdown",
      "metadata": {},
      "source": [
        "###Choose Best Data Preparation Method"
      ]
    },
    {
      "cell_type": "code",
      "execution_count": null,
      "metadata": {},
      "outputs": [],
      "source": [
        "df1 = pd.read_csv('preprocessed_data_variations/df1_transformed.csv')#d\n",
        "df2 = pd.read_csv('preprocessed_data_variations/df2_transformed.csv')#centered With min-max Scaling\n",
        "df3 = pd.read_csv('preprocessed_data_variations/df3_transformed.csv')#centered With min-max Scaling ,rotation and filliping"
      ]
    },
    {
      "cell_type": "code",
      "execution_count": null,
      "metadata": {},
      "outputs": [],
      "source": [
        "import joblib\n",
        "from sklearn.preprocessing import LabelEncoder\n",
        "\n",
        "# Load target_encoder\n",
        "loaded_target_encoder = joblib.load('preprocessing_models/target_encoder.pkl')\n",
        "data[\"target\"]=loaded_target_encoder.transform(data[\"label\"])"
      ]
    },
    {
      "cell_type": "code",
      "execution_count": 17,
      "metadata": {
        "id": "sCzugAL8P9pU"
      },
      "outputs": [],
      "source": [
        "data=df1\n",
        "transform_record = transform_record1"
      ]
    },
    {
      "cell_type": "code",
      "execution_count": null,
      "metadata": {
        "id": "Ku3_fqQ5P9pU",
        "outputId": "830a6a8b-0a6b-4061-dde3-7f89350f6346"
      },
      "outputs": [
        {
          "data": {
            "text/plain": [
              "['preprocessing_models/target_encoder.pkl']"
            ]
          },
          "execution_count": 53,
          "metadata": {},
          "output_type": "execute_result"
        }
      ],
      "source": [
        "import joblib\n",
        "from sklearn.preprocessing import LabelEncoder\n",
        "\n",
        "target_encoder = LabelEncoder()\n",
        "data[\"target\"]=target_encoder.fit_transform(data[\"label\"])\n",
        "\n",
        "# Save target_encoder\n",
        "joblib.dump(target_encoder, 'preprocessing_models/target_encoder.pkl')\n"
      ]
    },
    {
      "cell_type": "code",
      "execution_count": 18,
      "metadata": {
        "id": "OQku3evAP9pV"
      },
      "outputs": [],
      "source": [
        "import joblib\n",
        "from sklearn.preprocessing import LabelEncoder\n",
        "\n",
        "# Load target_encoder\n",
        "loaded_target_encoder = joblib.load('preprocessing_models/target_encoder.pkl')\n",
        "data[\"target\"]=loaded_target_encoder.transform(data[\"label\"])\n"
      ]
    },
    {
      "cell_type": "markdown",
      "metadata": {
        "id": "PoCvBb10P9pV"
      },
      "source": [
        "##### Splitting"
      ]
    },
    {
      "cell_type": "code",
      "execution_count": 102,
      "metadata": {
        "id": "CYZnAzUGP9pc",
        "outputId": "545a721f-48b3-4892-c58e-a144db6fd70f"
      },
      "outputs": [
        {
          "data": {
            "text/plain": [
              "Index(['x1', 'y1', 'x2', 'y2', 'x3', 'y3', 'x4', 'y4', 'x5', 'y5', 'x6', 'y6',\n",
              "       'x7', 'y7', 'x8', 'y8', 'x9', 'y9', 'x10', 'y10', 'x11', 'y11', 'x12',\n",
              "       'y12', 'x13', 'y13', 'x14', 'y14', 'x15', 'y15', 'x16', 'y16', 'x17',\n",
              "       'y17', 'x18', 'y18', 'x19', 'y19', 'x20', 'y20', 'x21', 'y21', 'label',\n",
              "       'target'],\n",
              "      dtype='object')"
            ]
          },
          "execution_count": 102,
          "metadata": {},
          "output_type": "execute_result"
        }
      ],
      "source": [
        "data.columns"
      ]
    },
    {
      "cell_type": "code",
      "execution_count": 19,
      "metadata": {
        "id": "VYgAUm4SP9pc",
        "outputId": "d4220c9a-a56b-499d-ff6a-f9c1134f5bef"
      },
      "outputs": [
        {
          "name": "stdout",
          "output_type": "stream",
          "text": [
            "(20540, 42)\n",
            "(20540,)\n",
            "(5135, 42)\n",
            "(5135,)\n"
          ]
        }
      ],
      "source": [
        "from sklearn.model_selection import train_test_split\n",
        "\n",
        "X_train, X_test, y_train, y_test = train_test_split(data.drop(columns=[\"label\",\"target\"]), data[\"target\"], test_size=0.2, random_state=42, stratify=data[\"target\"])\n",
        "\n",
        "print(X_train.shape)\n",
        "print(y_train.shape)\n",
        "print(X_test.shape)\n",
        "print(y_test.shape)"
      ]
    },
    {
      "cell_type": "markdown",
      "metadata": {
        "id": "NKf9nXFkP9pd"
      },
      "source": [
        "### Model Training"
      ]
    },
    {
      "cell_type": "markdown",
      "metadata": {
        "id": "7pBUWKWNP9pd"
      },
      "source": [
        "#### KNN"
      ]
    },
    {
      "cell_type": "code",
      "execution_count": 105,
      "metadata": {
        "id": "79Pbmij_P9pd",
        "outputId": "2bb57c86-e446-45ac-8c30-66df71ee9429"
      },
      "outputs": [
        {
          "name": "stdout",
          "output_type": "stream",
          "text": [
            "Accuracy: 97.51%\n"
          ]
        }
      ],
      "source": [
        "from sklearn.neighbors import KNeighborsClassifier\n",
        "from sklearn.metrics import accuracy_score\n",
        "\n",
        "# Initialize the KNN classifier with 3 neighbors\n",
        "clf = KNeighborsClassifier(n_neighbors=3)\n",
        "\n",
        "# Train the model with training data (features and labels)\n",
        "clf.fit(X_train, y_train)\n",
        "\n",
        "# Predict the labels for the test data\n",
        "y_pred = clf.predict(X_test)\n",
        "\n",
        "# Calculate accuracy\n",
        "accuracy = accuracy_score(y_test, y_pred)\n",
        "\n",
        "# Print the accuracy\n",
        "print(f'Accuracy: {accuracy * 100:.2f}%')\n"
      ]
    },
    {
      "cell_type": "code",
      "execution_count": 137,
      "metadata": {},
      "outputs": [
        {
          "data": {
            "text/plain": [
              "['model_variations/knn_model_df1.pkl']"
            ]
          },
          "execution_count": 137,
          "metadata": {},
          "output_type": "execute_result"
        }
      ],
      "source": [
        "joblib.dump(clf, 'model_variations/knn_model_df1.pkl')#93.53%"
      ]
    },
    {
      "cell_type": "code",
      "execution_count": 20,
      "metadata": {},
      "outputs": [
        {
          "name": "stdout",
          "output_type": "stream",
          "text": [
            "Accuracy: 18.64%\n"
          ]
        }
      ],
      "source": [
        "from sklearn.metrics import accuracy_score\n",
        "\n",
        "knn_loaded = joblib.load('model_variations/knn_model_df1.pkl')\n",
        "# Predict the labels for the test data\n",
        "y_pred = knn_loaded.predict(X_test)\n",
        "# Calculate accuracy\n",
        "accuracy = accuracy_score(y_test, y_pred)\n",
        "# Print the accuracy\n",
        "print(f'Accuracy: {accuracy * 100:.2f}%')"
      ]
    },
    {
      "cell_type": "code",
      "execution_count": 108,
      "metadata": {
        "id": "gQsQVMNvP9pd",
        "outputId": "ebb0523b-80c7-4d50-9ca5-934028c4da26"
      },
      "outputs": [
        {
          "name": "stdout",
          "output_type": "stream",
          "text": [
            "Accuracy: 98.42%\n"
          ]
        }
      ],
      "source": [
        "from xgboost import XGBClassifier #sofprob,maxdepth 6 eta 0.3\n",
        "from sklearn.metrics import accuracy_score\n",
        "\n",
        "model = XGBClassifier(\n",
        "    objective='multi:softmax', #softprob,softmax\n",
        "    num_class=18,\n",
        "    eval_metric='mlogloss',\n",
        "    max_depth=4,\n",
        "    eta=0.25 ,\n",
        "    random_state=42\n",
        "\n",
        ")\n",
        "\n",
        "model.fit(X_train, y_train)\n",
        "\n",
        "y_pred = model.predict(X_test)\n",
        "\n",
        "accuracy = accuracy_score(y_test, y_pred)\n",
        "print(f'Accuracy: {accuracy * 100:.2f}%')"
      ]
    },
    {
      "cell_type": "code",
      "execution_count": 109,
      "metadata": {
        "id": "QzNPydcwP9pe"
      },
      "outputs": [],
      "source": [
        "model.save_model('model_variations/xgb_model_df3.json')  # Saves the model in JSON format"
      ]
    },
    {
      "cell_type": "code",
      "execution_count": 21,
      "metadata": {
        "id": "qn8EJ1gbP9pe"
      },
      "outputs": [
        {
          "ename": "NameError",
          "evalue": "name 'XGBClassifier' is not defined",
          "output_type": "error",
          "traceback": [
            "\u001b[1;31m---------------------------------------------------------------------------\u001b[0m",
            "\u001b[1;31mNameError\u001b[0m                                 Traceback (most recent call last)",
            "Cell \u001b[1;32mIn[21], line 3\u001b[0m\n\u001b[0;32m      1\u001b[0m \u001b[38;5;28;01mfrom\u001b[39;00m\u001b[38;5;250m \u001b[39m\u001b[38;5;21;01msklearn\u001b[39;00m\u001b[38;5;21;01m.\u001b[39;00m\u001b[38;5;21;01mmetrics\u001b[39;00m\u001b[38;5;250m \u001b[39m\u001b[38;5;28;01mimport\u001b[39;00m accuracy_score\n\u001b[1;32m----> 3\u001b[0m xgb_loaded \u001b[38;5;241m=\u001b[39m \u001b[43mXGBClassifier\u001b[49m()\n\u001b[0;32m      4\u001b[0m xgb_loaded\u001b[38;5;241m.\u001b[39mload_model(\u001b[38;5;124m'\u001b[39m\u001b[38;5;124mmodel_variations/xgb_model_df1.json\u001b[39m\u001b[38;5;124m'\u001b[39m)\n\u001b[0;32m      5\u001b[0m y_pred \u001b[38;5;241m=\u001b[39m xgb_loaded\u001b[38;5;241m.\u001b[39mpredict(X_test)\n",
            "\u001b[1;31mNameError\u001b[0m: name 'XGBClassifier' is not defined"
          ]
        }
      ],
      "source": [
        "from sklearn.metrics import accuracy_score\n",
        "\n",
        "xgb_loaded = XGBClassifier()\n",
        "xgb_loaded.load_model('model_variations/xgb_model_df1.json')\n",
        "y_pred = xgb_loaded.predict(X_test)\n",
        "accuracy = accuracy_score(y_test, y_pred)\n",
        "print(f'Accuracy: {accuracy * 100:.2f}%')"
      ]
    },
    {
      "cell_type": "code",
      "execution_count": 111,
      "metadata": {
        "id": "64h69RgdP9pe",
        "outputId": "60723695-3873-410f-e20e-7154a110c8fe"
      },
      "outputs": [
        {
          "name": "stdout",
          "output_type": "stream",
          "text": [
            "Accuracy: 97.68%\n"
          ]
        }
      ],
      "source": [
        "from sklearn.ensemble import AdaBoostClassifier\n",
        "from sklearn.tree import DecisionTreeClassifier\n",
        "from sklearn.metrics import accuracy_score\n",
        "\n",
        "# Set the random_state for reproducibility and define the number of estimators\n",
        "base_estimator = DecisionTreeClassifier(max_depth=8)\n",
        "adaboost_classifier = AdaBoostClassifier(estimator=base_estimator,random_state=42, n_estimators=50,learning_rate=0.5)\n",
        "\n",
        "# Train the AdaBoost model with the training data (features and labels)\n",
        "adaboost_classifier.fit(X_train, y_train)\n",
        "\n",
        "# Predict the labels for the test data\n",
        "y_pred = adaboost_classifier.predict(X_test)\n",
        "\n",
        "# Calculate accuracy\n",
        "accuracy = accuracy_score(y_test, y_pred)\n",
        "\n",
        "# Print the accuracy\n",
        "print(f'Accuracy: {accuracy * 100:.2f}%')\n"
      ]
    },
    {
      "cell_type": "code",
      "execution_count": 112,
      "metadata": {},
      "outputs": [
        {
          "data": {
            "text/plain": [
              "['model_variations/adaboost_model_df3.pkl']"
            ]
          },
          "execution_count": 112,
          "metadata": {},
          "output_type": "execute_result"
        }
      ],
      "source": [
        "joblib.dump(adaboost_classifier, 'model_variations/adaboost_model_df3.pkl')#93.53%"
      ]
    },
    {
      "cell_type": "code",
      "execution_count": 22,
      "metadata": {},
      "outputs": [
        {
          "name": "stdout",
          "output_type": "stream",
          "text": [
            "Accuracy: 95.83%\n"
          ]
        }
      ],
      "source": [
        "from sklearn.metrics import accuracy_score\n",
        "\n",
        "ada_loaded = joblib.load('model_variations/adaboost_model_df1.pkl')\n",
        "# Predict the labels for the test data\n",
        "y_pred = ada_loaded.predict(X_test)\n",
        "# Calculate accuracy\n",
        "accuracy = accuracy_score(y_test, y_pred)\n",
        "# Print the accuracy\n",
        "print(f'Accuracy: {accuracy * 100:.2f}%')"
      ]
    },
    {
      "cell_type": "code",
      "execution_count": 114,
      "metadata": {
        "id": "Kn9ySi0gP9pf",
        "outputId": "4e869c76-2d58-46c0-84bb-a8a7ed72669d"
      },
      "outputs": [
        {
          "name": "stdout",
          "output_type": "stream",
          "text": [
            "Random Forest Accuracy: 97.45%\n"
          ]
        }
      ],
      "source": [
        "from sklearn.ensemble import RandomForestClassifier\n",
        "from sklearn.metrics import accuracy_score\n",
        "\n",
        "# Initialize the Random Forest Classifier with a random state for reproducibility\n",
        "random_forest_classifier = RandomForestClassifier(random_state=42, n_estimators=20, max_depth=13)\n",
        "\n",
        "# Train the model\n",
        "random_forest_classifier.fit(X_train, y_train)\n",
        "\n",
        "# Predict the labels for the test data\n",
        "y_pred_rf = random_forest_classifier.predict(X_test)\n",
        "\n",
        "# Calculate and print the accuracy\n",
        "accuracy_rf = accuracy_score(y_test, y_pred_rf)\n",
        "print(f'Random Forest Accuracy: {accuracy_rf * 100:.2f}%')\n"
      ]
    },
    {
      "cell_type": "code",
      "execution_count": 115,
      "metadata": {},
      "outputs": [
        {
          "data": {
            "text/plain": [
              "['model_variations/rforest_model_df3.pkl']"
            ]
          },
          "execution_count": 115,
          "metadata": {},
          "output_type": "execute_result"
        }
      ],
      "source": [
        "joblib.dump(random_forest_classifier, 'model_variations/rforest_model_df3.pkl')#93.53%"
      ]
    },
    {
      "cell_type": "code",
      "execution_count": 23,
      "metadata": {},
      "outputs": [
        {
          "name": "stdout",
          "output_type": "stream",
          "text": [
            "Accuracy: 95.64%\n"
          ]
        }
      ],
      "source": [
        "from sklearn.metrics import accuracy_score\n",
        "\n",
        "rforest_loaded = joblib.load('model_variations/rforest_model_df1.pkl')\n",
        "# Predict the labels for the test data\n",
        "y_pred = rforest_loaded.predict(X_test)\n",
        "# Calculate accuracy\n",
        "accuracy = accuracy_score(y_test, y_pred)\n",
        "# Print the accuracy\n",
        "print(f'Accuracy: {accuracy * 100:.2f}%')"
      ]
    }
  ],
  "metadata": {
    "colab": {
      "include_colab_link": true,
      "provenance": []
    },
    "kernelspec": {
      "display_name": ".venv",
      "language": "python",
      "name": "python3"
    },
    "language_info": {
      "codemirror_mode": {
        "name": "ipython",
        "version": 3
      },
      "file_extension": ".py",
      "mimetype": "text/x-python",
      "name": "python",
      "nbconvert_exporter": "python",
      "pygments_lexer": "ipython3",
      "version": "3.8.10"
    }
  },
  "nbformat": 4,
  "nbformat_minor": 0
}

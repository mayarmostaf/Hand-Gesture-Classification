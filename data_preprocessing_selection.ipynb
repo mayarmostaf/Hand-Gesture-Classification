{
  "cells": [
    {
      "cell_type": "markdown",
      "metadata": {
        "colab_type": "text",
        "id": "view-in-github"
      },
      "source": [
        "<a href=\"https://colab.research.google.com/github/mayarmostaf/Hand-Gesture-Classification/blob/main/main.ipynb\" target=\"_parent\"><img src=\"https://colab.research.google.com/assets/colab-badge.svg\" alt=\"Open In Colab\"/></a>"
      ]
    },
    {
      "cell_type": "code",
      "execution_count": 2,
      "metadata": {
        "id": "keGx66DVP9o1"
      },
      "outputs": [],
      "source": [
        "import pandas as pd\n",
        "import numpy as np\n",
        "import joblib\n",
        "import matplotlib.pyplot as plt\n",
        "import seaborn as sns\n",
        "from sklearn.preprocessing import LabelEncoder"
      ]
    },
    {
      "cell_type": "markdown",
      "metadata": {},
      "source": [
        "### Choose Best Data Preparation Method"
      ]
    },
    {
      "cell_type": "code",
      "execution_count": 3,
      "metadata": {},
      "outputs": [],
      "source": [
        "df1 = pd.read_csv('preprocessed_data_variations/df1_transformed.csv')# with Tip Finger Scaling\n",
        "df2 = pd.read_csv('preprocessed_data_variations/df2_transformed.csv')#centered with min-max Scaling\n",
        "df3 = pd.read_csv('preprocessed_data_variations/df3_transformed.csv')#centered with min-max Scaling ,rotation and filliping"
      ]
    },
    {
      "cell_type": "code",
      "execution_count": 4,
      "metadata": {},
      "outputs": [],
      "source": [
        "# Load target_encoder\n",
        "loaded_target_encoder = joblib.load('preprocessing_models/target_encoder.pkl')\n",
        "df1[\"target\"]=loaded_target_encoder.transform(df1[\"label\"])\n",
        "df2[\"target\"]=loaded_target_encoder.transform(df2[\"label\"])\n",
        "df3[\"target\"]=loaded_target_encoder.transform(df3[\"label\"])"
      ]
    },
    {
      "cell_type": "markdown",
      "metadata": {},
      "source": [
        "#### Compare random forest performance"
      ]
    },
    {
      "cell_type": "markdown",
      "metadata": {},
      "source": [
        "#### With Tip Finger Scaling"
      ]
    },
    {
      "cell_type": "markdown",
      "metadata": {
        "id": "PoCvBb10P9pV"
      },
      "source": [
        "##### Splitting"
      ]
    },
    {
      "cell_type": "code",
      "execution_count": 19,
      "metadata": {
        "id": "VYgAUm4SP9pc",
        "outputId": "d4220c9a-a56b-499d-ff6a-f9c1134f5bef"
      },
      "outputs": [
        {
          "name": "stdout",
          "output_type": "stream",
          "text": [
            "(20540, 42)\n",
            "(20540,)\n",
            "(5135, 42)\n",
            "(5135,)\n",
            "target\n",
            "15    0.064362\n",
            "8     0.064216\n",
            "3     0.063632\n",
            "6     0.062025\n",
            "13    0.061003\n",
            "0     0.058666\n",
            "10    0.058325\n",
            "12    0.057741\n",
            "11    0.056767\n",
            "14    0.056719\n",
            "9     0.056134\n",
            "4     0.055940\n",
            "17    0.053408\n",
            "16    0.052288\n",
            "1     0.050438\n",
            "7     0.049172\n",
            "5     0.042356\n",
            "2     0.036806\n",
            "Name: proportion, dtype: float64\n",
            "target\n",
            "15    0.064460\n",
            "8     0.064265\n",
            "3     0.063681\n",
            "6     0.061928\n",
            "13    0.061149\n",
            "0     0.058617\n",
            "10    0.058228\n",
            "12    0.057644\n",
            "11    0.056865\n",
            "14    0.056670\n",
            "9     0.056086\n",
            "4     0.055891\n",
            "17    0.053359\n",
            "16    0.052386\n",
            "1     0.050438\n",
            "7     0.049270\n",
            "5     0.042259\n",
            "2     0.036806\n",
            "Name: proportion, dtype: float64\n"
          ]
        }
      ],
      "source": [
        "from sklearn.model_selection import train_test_split\n",
        "\n",
        "data=df1\n",
        "X_train, X_test, y_train, y_test = train_test_split(data.drop(columns=[\"label\",\"target\"]), data[\"target\"], test_size=0.2, random_state=42, stratify=data[\"target\"])\n",
        "\n",
        "print(X_train.shape)\n",
        "print(y_train.shape)\n",
        "print(X_test.shape)\n",
        "print(y_test.shape)\n",
        "print(y_train.value_counts(normalize=True))\n",
        "print(y_test.value_counts(normalize=True))"
      ]
    },
    {
      "cell_type": "markdown",
      "metadata": {
        "id": "NKf9nXFkP9pd"
      },
      "source": [
        "##### Model Training"
      ]
    },
    {
      "cell_type": "code",
      "execution_count": 9,
      "metadata": {
        "id": "Kn9ySi0gP9pf",
        "outputId": "4e869c76-2d58-46c0-84bb-a8a7ed72669d"
      },
      "outputs": [
        {
          "name": "stdout",
          "output_type": "stream",
          "text": [
            "Random Forest Accuracy: 96.57%\n"
          ]
        }
      ],
      "source": [
        "from sklearn.ensemble import RandomForestClassifier\n",
        "from sklearn.metrics import accuracy_score\n",
        "\n",
        "# Initialize the Random Forest Classifier with a random state for reproducibility\n",
        "random_forest_classifier = RandomForestClassifier()\n",
        "\n",
        "# Train the model\n",
        "random_forest_classifier.fit(X_train, y_train)\n",
        "\n",
        "# Predict the labels for the test data\n",
        "y_pred_rf = random_forest_classifier.predict(X_test)\n",
        "\n",
        "# Calculate and print the accuracy\n",
        "accuracy_rf = accuracy_score(y_test, y_pred_rf)\n",
        "print(f'Random Forest Accuracy: {accuracy_rf * 100:.2f}%')\n"
      ]
    },
    {
      "cell_type": "code",
      "execution_count": 20,
      "metadata": {},
      "outputs": [
        {
          "name": "stdout",
          "output_type": "stream",
          "text": [
            "Accuracy: 16.59%\n"
          ]
        }
      ],
      "source": [
        "from sklearn.ensemble import AdaBoostClassifier\n",
        "from sklearn.tree import DecisionTreeClassifier\n",
        "from sklearn.metrics import accuracy_score\n",
        "\n",
        "# Set the random_state for reproducibility and define the number of estimators\n",
        "adaboost_classifier = AdaBoostClassifier(random_state=42)\n",
        "\n",
        "# Train the AdaBoost model with the training data (features and labels)\n",
        "adaboost_classifier.fit(X_train, y_train)\n",
        "\n",
        "# Predict the labels for the test data\n",
        "y_pred = adaboost_classifier.predict(X_test)\n",
        "\n",
        "# Calculate accuracy\n",
        "accuracy = accuracy_score(y_test, y_pred)\n",
        "\n",
        "# Print the accuracy\n",
        "print(f'Accuracy: {accuracy * 100:.2f}%')\n"
      ]
    },
    {
      "cell_type": "markdown",
      "metadata": {},
      "source": [
        "#### Centered with min-max Scaling"
      ]
    },
    {
      "cell_type": "markdown",
      "metadata": {},
      "source": [
        "##### Splitting"
      ]
    },
    {
      "cell_type": "code",
      "execution_count": 21,
      "metadata": {},
      "outputs": [
        {
          "name": "stdout",
          "output_type": "stream",
          "text": [
            "(20540, 42)\n",
            "(20540,)\n",
            "(5135, 42)\n",
            "(5135,)\n",
            "target\n",
            "15    0.064362\n",
            "8     0.064216\n",
            "3     0.063632\n",
            "6     0.062025\n",
            "13    0.061003\n",
            "0     0.058666\n",
            "10    0.058325\n",
            "12    0.057741\n",
            "11    0.056767\n",
            "14    0.056719\n",
            "9     0.056134\n",
            "4     0.055940\n",
            "17    0.053408\n",
            "16    0.052288\n",
            "1     0.050438\n",
            "7     0.049172\n",
            "5     0.042356\n",
            "2     0.036806\n",
            "Name: proportion, dtype: float64\n",
            "target\n",
            "15    0.064460\n",
            "8     0.064265\n",
            "3     0.063681\n",
            "6     0.061928\n",
            "13    0.061149\n",
            "0     0.058617\n",
            "10    0.058228\n",
            "12    0.057644\n",
            "11    0.056865\n",
            "14    0.056670\n",
            "9     0.056086\n",
            "4     0.055891\n",
            "17    0.053359\n",
            "16    0.052386\n",
            "1     0.050438\n",
            "7     0.049270\n",
            "5     0.042259\n",
            "2     0.036806\n",
            "Name: proportion, dtype: float64\n"
          ]
        }
      ],
      "source": [
        "from sklearn.model_selection import train_test_split\n",
        "\n",
        "data=df2\n",
        "X_train, X_test, y_train, y_test = train_test_split(data.drop(columns=[\"label\",\"target\"]), data[\"target\"], test_size=0.2, random_state=42, stratify=data[\"target\"])\n",
        "\n",
        "print(X_train.shape)\n",
        "print(y_train.shape)\n",
        "print(X_test.shape)\n",
        "print(y_test.shape)\n",
        "print(y_train.value_counts(normalize=True))\n",
        "print(y_test.value_counts(normalize=True))"
      ]
    },
    {
      "cell_type": "markdown",
      "metadata": {},
      "source": [
        "##### Model Training"
      ]
    },
    {
      "cell_type": "code",
      "execution_count": 22,
      "metadata": {},
      "outputs": [
        {
          "name": "stdout",
          "output_type": "stream",
          "text": [
            "Random Forest Accuracy: 97.72%\n"
          ]
        }
      ],
      "source": [
        "from sklearn.ensemble import RandomForestClassifier\n",
        "from sklearn.metrics import accuracy_score\n",
        "\n",
        "# Initialize the Random Forest Classifier with a random state for reproducibility\n",
        "random_forest_classifier = RandomForestClassifier()\n",
        "\n",
        "# Train the model\n",
        "random_forest_classifier.fit(X_train, y_train)\n",
        "\n",
        "# Predict the labels for the test data\n",
        "y_pred_rf = random_forest_classifier.predict(X_test)\n",
        "\n",
        "# Calculate and print the accuracy\n",
        "accuracy_rf = accuracy_score(y_test, y_pred_rf)\n",
        "print(f'Random Forest Accuracy: {accuracy_rf * 100:.2f}%')\n"
      ]
    },
    {
      "cell_type": "code",
      "execution_count": 18,
      "metadata": {},
      "outputs": [
        {
          "name": "stdout",
          "output_type": "stream",
          "text": [
            "Accuracy: 28.82%\n"
          ]
        }
      ],
      "source": [
        "from sklearn.ensemble import AdaBoostClassifier\n",
        "from sklearn.tree import DecisionTreeClassifier\n",
        "from sklearn.metrics import accuracy_score\n",
        "\n",
        "# Set the random_state for reproducibility and define the number of estimators\n",
        "adaboost_classifier = AdaBoostClassifier(random_state=42)\n",
        "\n",
        "# Train the AdaBoost model with the training data (features and labels)\n",
        "adaboost_classifier.fit(X_train, y_train)\n",
        "\n",
        "# Predict the labels for the test data\n",
        "y_pred = adaboost_classifier.predict(X_test)\n",
        "\n",
        "# Calculate accuracy\n",
        "accuracy = accuracy_score(y_test, y_pred)\n",
        "\n",
        "# Print the accuracy\n",
        "print(f'Accuracy: {accuracy * 100:.2f}%')\n"
      ]
    },
    {
      "cell_type": "markdown",
      "metadata": {},
      "source": [
        "### Centered with min-max Scaling ,rotation and filliping"
      ]
    },
    {
      "cell_type": "markdown",
      "metadata": {},
      "source": [
        "##### Splitting"
      ]
    },
    {
      "cell_type": "code",
      "execution_count": 12,
      "metadata": {},
      "outputs": [
        {
          "name": "stdout",
          "output_type": "stream",
          "text": [
            "(20540, 42)\n",
            "(20540,)\n",
            "(5135, 42)\n",
            "(5135,)\n",
            "target\n",
            "15    0.064362\n",
            "8     0.064216\n",
            "3     0.063632\n",
            "6     0.062025\n",
            "13    0.061003\n",
            "0     0.058666\n",
            "10    0.058325\n",
            "12    0.057741\n",
            "11    0.056767\n",
            "14    0.056719\n",
            "9     0.056134\n",
            "4     0.055940\n",
            "17    0.053408\n",
            "16    0.052288\n",
            "1     0.050438\n",
            "7     0.049172\n",
            "5     0.042356\n",
            "2     0.036806\n",
            "Name: proportion, dtype: float64\n",
            "target\n",
            "15    0.064460\n",
            "8     0.064265\n",
            "3     0.063681\n",
            "6     0.061928\n",
            "13    0.061149\n",
            "0     0.058617\n",
            "10    0.058228\n",
            "12    0.057644\n",
            "11    0.056865\n",
            "14    0.056670\n",
            "9     0.056086\n",
            "4     0.055891\n",
            "17    0.053359\n",
            "16    0.052386\n",
            "1     0.050438\n",
            "7     0.049270\n",
            "5     0.042259\n",
            "2     0.036806\n",
            "Name: proportion, dtype: float64\n"
          ]
        }
      ],
      "source": [
        "from sklearn.model_selection import train_test_split\n",
        "\n",
        "data=df3\n",
        "X_train, X_test, y_train, y_test = train_test_split(data.drop(columns=[\"label\",\"target\"]), data[\"target\"], test_size=0.2, random_state=42, stratify=data[\"target\"])\n",
        "\n",
        "print(X_train.shape)\n",
        "print(y_train.shape)\n",
        "print(X_test.shape)\n",
        "print(y_test.shape)\n",
        "print(y_train.value_counts(normalize=True))\n",
        "print(y_test.value_counts(normalize=True))"
      ]
    },
    {
      "cell_type": "markdown",
      "metadata": {},
      "source": [
        "##### Model Training"
      ]
    },
    {
      "cell_type": "code",
      "execution_count": 13,
      "metadata": {},
      "outputs": [
        {
          "name": "stdout",
          "output_type": "stream",
          "text": [
            "Random Forest Accuracy: 97.90%\n"
          ]
        }
      ],
      "source": [
        "from sklearn.ensemble import RandomForestClassifier\n",
        "from sklearn.metrics import accuracy_score\n",
        "\n",
        "# Initialize the Random Forest Classifier with a random state for reproducibility\n",
        "random_forest_classifier = RandomForestClassifier()\n",
        "\n",
        "# Train the model\n",
        "random_forest_classifier.fit(X_train, y_train)\n",
        "\n",
        "# Predict the labels for the test data\n",
        "y_pred_rf = random_forest_classifier.predict(X_test)\n",
        "\n",
        "# Calculate and print the accuracy\n",
        "accuracy_rf = accuracy_score(y_test, y_pred_rf)\n",
        "print(f'Random Forest Accuracy: {accuracy_rf * 100:.2f}%')\n"
      ]
    },
    {
      "cell_type": "code",
      "execution_count": 14,
      "metadata": {},
      "outputs": [
        {
          "name": "stdout",
          "output_type": "stream",
          "text": [
            "Accuracy: 50.89%\n"
          ]
        }
      ],
      "source": [
        "from sklearn.ensemble import AdaBoostClassifier\n",
        "from sklearn.tree import DecisionTreeClassifier\n",
        "from sklearn.metrics import accuracy_score\n",
        "\n",
        "# Set the random_state for reproducibility and define the number of estimators\n",
        "adaboost_classifier = AdaBoostClassifier(random_state=42)\n",
        "\n",
        "# Train the AdaBoost model with the training data (features and labels)\n",
        "adaboost_classifier.fit(X_train, y_train)\n",
        "\n",
        "# Predict the labels for the test data\n",
        "y_pred = adaboost_classifier.predict(X_test)\n",
        "\n",
        "# Calculate accuracy\n",
        "accuracy = accuracy_score(y_test, y_pred)\n",
        "\n",
        "# Print the accuracy\n",
        "print(f'Accuracy: {accuracy * 100:.2f}%')\n"
      ]
    },
    {
      "cell_type": "markdown",
      "metadata": {},
      "source": [
        "##### Conclusion:\n",
        " Centered Data with min-max Scaling ,rotation and filliping is the best ."
      ]
    }
  ],
  "metadata": {
    "colab": {
      "include_colab_link": true,
      "provenance": []
    },
    "kernelspec": {
      "display_name": ".venv",
      "language": "python",
      "name": "python3"
    },
    "language_info": {
      "codemirror_mode": {
        "name": "ipython",
        "version": 3
      },
      "file_extension": ".py",
      "mimetype": "text/x-python",
      "name": "python",
      "nbconvert_exporter": "python",
      "pygments_lexer": "ipython3",
      "version": "3.8.10"
    }
  },
  "nbformat": 4,
  "nbformat_minor": 0
}
